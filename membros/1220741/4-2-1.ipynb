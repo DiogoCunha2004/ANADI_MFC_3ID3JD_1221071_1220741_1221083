{
 "cells": [
  {
   "cell_type": "code",
   "execution_count": 1,
   "id": "8ee9c808",
   "metadata": {},
   "outputs": [],
   "source": [
    "import pandas as pd\n",
    "import numpy as np\n",
    "import matplotlib.pyplot as plt\n",
    "import seaborn as sns\n",
    "from sklearn.preprocessing import MinMaxScaler\n"
   ]
  },
  {
   "cell_type": "markdown",
   "id": "a597f7a9",
   "metadata": {},
   "source": [
    "# Leitura de Dados e filtração de Dados"
   ]
  },
  {
   "cell_type": "code",
   "execution_count": 2,
   "id": "2d39cfff",
   "metadata": {},
   "outputs": [
    {
     "name": "stdout",
     "output_type": "stream",
     "text": [
      "<bound method DataFrame.info of        Country NUTS_Code Air_Pollutant Outcome  Affected_Population  \\\n",
      "0      Albania        AL           NO2  Asthma            2337443.0   \n",
      "1      Albania        AL         PM2.5  Asthma             456076.0   \n",
      "2      Albania       AL0           NO2  Asthma            2337443.0   \n",
      "3      Albania       AL0         PM2.5  Asthma             456076.0   \n",
      "4      Albania      AL03         PM2.5  Asthma             149508.0   \n",
      "...        ...       ...           ...     ...                  ...   \n",
      "49135   Turkey     TR822           NO2  Stroke             213615.0   \n",
      "49136   Turkey     TRB12           NO2  Stroke             447268.0   \n",
      "49137   Turkey     TRB14           NO2  Stroke              76591.0   \n",
      "49138   Turkey     TRB21           NO2  Stroke             696344.0   \n",
      "49139   Turkey     TRB22           NO2  Stroke             362047.0   \n",
      "\n",
      "       Populated_Area[km2]  Air_Pollution_Average[ug/m3]  Value  \n",
      "0                  11299.0                           5.5  103.0  \n",
      "1                  11299.0                          11.3  231.0  \n",
      "2                  11299.0                           5.5  103.0  \n",
      "3                  11299.0                          11.3  231.0  \n",
      "4                   4041.5                          11.3   69.0  \n",
      "...                    ...                           ...    ...  \n",
      "49135               7473.5                           9.0    3.0  \n",
      "49136               8860.4                          12.4  291.0  \n",
      "49137               5506.6                          12.0   17.0  \n",
      "49138              17511.1                          11.2   25.0  \n",
      "49139               7990.7                          14.3  150.0  \n",
      "\n",
      "[49140 rows x 8 columns]>\n"
     ]
    }
   ],
   "source": [
    "# comando read_csv para tal.\n",
    "dados = pd.read_csv('../../dados/AIRPOL_data.csv', delimiter=\";\", header=0, decimal=',')\n",
    "dados = dados.drop(columns=['Unnamed: 8', 'Unnamed: 9', 'Unnamed: 10', 'Unnamed: 11', 'Unnamed: 12', 'Unnamed: 13', 'Unnamed: 14', 'Unnamed: 15'])\n",
    "\n",
    "print(dados.info)\n",
    "\n",
    "\n",
    "# Filtrar dados\n",
    "soutEuDados = dados[dados['Country'].isin(['Greece', 'Spain', 'Italy', 'Portugal'])]\n",
    "soutEuDadosNumericos = soutEuDados.select_dtypes(include=[np.number])\n",
    "\n"
   ]
  },
  {
   "cell_type": "code",
   "execution_count": 3,
   "id": "a9654ae2",
   "metadata": {},
   "outputs": [
    {
     "name": "stdout",
     "output_type": "stream",
     "text": [
      "Affected_Population             0.563330\n",
      "Populated_Area[km2]             0.531761\n",
      "Air_Pollution_Average[ug/m3]   -0.014951\n",
      "Value                           1.000000\n",
      "Name: Value, dtype: float64\n"
     ]
    }
   ],
   "source": [
    "\n",
    "corr = soutEuDadosNumericos.corr()\n",
    "print(corr['Value'])\n"
   ]
  },
  {
   "cell_type": "markdown",
   "id": "2cc7d1a6",
   "metadata": {},
   "source": [
    "# Conlusão"
   ]
  },
  {
   "cell_type": "markdown",
   "id": "34ac0389",
   "metadata": {},
   "source": [
    "# Pequena Interpretação\n",
    "\n",
    "- Affected_Population e Populated_area são modeadamente positivamente afetados,\n",
    " Ao seja, o significa que, em geral, quanto maior a população e area populada afetada, maior tende a ser o \"Value\".\n",
    "\n",
    "Air_Pollution_Average[ug/m3]: **-0.014951**\n",
    "- A poluição média atmosferica não é muito fraca (praticamente nula).\n",
    "  \n"
   ]
  }
 ],
 "metadata": {
  "kernelspec": {
   "display_name": "base",
   "language": "python",
   "name": "python3"
  },
  "language_info": {
   "codemirror_mode": {
    "name": "ipython",
    "version": 3
   },
   "file_extension": ".py",
   "mimetype": "text/x-python",
   "name": "python",
   "nbconvert_exporter": "python",
   "pygments_lexer": "ipython3",
   "version": "3.12.7"
  }
 },
 "nbformat": 4,
 "nbformat_minor": 5
}
