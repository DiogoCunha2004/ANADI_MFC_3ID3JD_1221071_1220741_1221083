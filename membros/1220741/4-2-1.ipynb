{
 "cells": [
  {
   "cell_type": "markdown",
   "id": "e751f02b",
   "metadata": {},
   "source": [
    "# Imports Necessários"
   ]
  },
  {
   "cell_type": "code",
   "execution_count": null,
   "id": "8ee9c808",
   "metadata": {},
   "outputs": [],
   "source": [
    "import pandas as pd\n",
    "import numpy as np\n",
    "import matplotlib.pyplot as plt\n",
    "import seaborn as sns\n"
   ]
  },
  {
   "cell_type": "markdown",
   "id": "a597f7a9",
   "metadata": {},
   "source": [
    "# Leitura de Dados e filtração de Dados"
   ]
  },
  {
   "cell_type": "code",
   "execution_count": null,
   "id": "2d39cfff",
   "metadata": {},
   "outputs": [],
   "source": [
    "# comando read_csv para tal.\n",
    "dados = pd.read_csv('../../dados/AIRPOL_data.csv', delimiter=\";\", header=0, decimal=',')\n",
    "dados = dados.drop(columns=['Unnamed: 8', 'Unnamed: 9', 'Unnamed: 10', 'Unnamed: 11', 'Unnamed: 12', 'Unnamed: 13', 'Unnamed: 14', 'Unnamed: 15'])\n",
    "#print(dados.info())\n",
    "\n",
    "\n",
    "soutEuDados = dados[dados['Country'].isin(['Greece', 'Spain', 'Italy', 'Portugal'])]\n",
    "soutEuDadosNumericos = soutEuDados.select_dtypes(include=[np.number])\n",
    "\n",
    "\n",
    "# Normalizar dados\n",
    "features = ['Affected_Population', 'Populated_Area[km2]', 'Air_Pollution_Average[ug/m3]']"
   ]
  },
  {
   "cell_type": "markdown",
   "id": "5dd30feb",
   "metadata": {},
   "source": [
    "# Reprsentação de Dados por Regressão Linear"
   ]
  },
  {
   "cell_type": "code",
   "execution_count": null,
   "id": "348af9f6",
   "metadata": {},
   "outputs": [],
   "source": [
    "for feature in features:\n",
    "    plt.figure()\n",
    "    x = dados[feature]\n",
    "    y = dados['Value']\n",
    "    \n",
    "    # Scatter plot\n",
    "    plt.scatter(x, y, label='Dados')\n",
    "\n",
    "    # Regressão linear (linha teórica)\n",
    "    # Remove NaN and infinite values from x and y\n",
    "    valid_indices = ~np.isnan(x) & ~np.isnan(y) & np.isfinite(x) & np.isfinite(y)\n",
    "    x_clean = x[valid_indices]\n",
    "    y_clean = y[valid_indices]\n",
    "    \n",
    "    # Perform linear regression on cleaned data\n",
    "    coef = np.polyfit(x_clean, y_clean, 1)  # grau 1 => reta\n",
    "    poly1d_fn = np.poly1d(coef)\n",
    "    plt.plot(x, poly1d_fn(x), color='red', label='Linha teórica (ajuste linear)')\n",
    "\n",
    "    plt.title(f'Scatter plot with Linear Regression of  {feature} vs Value')\n",
    "    plt.xlabel(feature)\n",
    "    plt.ylabel('Value')\n",
    "    plt.grid(True)\n",
    "    plt.legend()\n",
    "    plt.show()"
   ]
  },
  {
   "cell_type": "markdown",
   "id": "71b8616e",
   "metadata": {},
   "source": [
    "# 2 Escolha de Representação de Correlação dos Dados: Heatmap a representar a matriz de confusão"
   ]
  },
  {
   "cell_type": "code",
   "execution_count": null,
   "id": "a9654ae2",
   "metadata": {},
   "outputs": [],
   "source": [
    "\n",
    "corr = soutEuDadosNumericos.corr()\n",
    "plt.figure(figsize=(10, 8))\n",
    "sns.heatmap(corr, annot=True, fmt=\".2f\", cmap='coolwarm', square=True, cbar_kws={\"shrink\": .8})\n",
    "plt.title('Correlação entre variáveis numéricas')\n",
    "plt.tight_layout()\n",
    "plt.show()"
   ]
  },
  {
   "cell_type": "markdown",
   "id": "34ac0389",
   "metadata": {},
   "source": [
    "# Pequena Interpretção dos Dados\n",
    "\n",
    "- Affected_Population e Populated_area são modeadamente positivamente afetados,\n",
    " Ao seja, o significa que, em geral, quanto maior a população e area populada afetada, maior tende a ser o \"Value\".\n",
    "\n",
    "Air_Pollution_Average[ug/m3]: **-0.014951**\n",
    "- A poluição média atmosferica não é muito fraca (praticamente nula).\n",
    "ds"
   ]
  }
 ],
 "metadata": {
  "kernelspec": {
   "display_name": "base",
   "language": "python",
   "name": "python3"
  },
  "language_info": {
   "codemirror_mode": {
    "name": "ipython",
    "version": 3
   },
   "file_extension": ".py",
   "mimetype": "text/x-python",
   "name": "python",
   "nbconvert_exporter": "python",
   "pygments_lexer": "ipython3",
   "version": "3.12.7"
  }
 },
 "nbformat": 4,
 "nbformat_minor": 5
}
