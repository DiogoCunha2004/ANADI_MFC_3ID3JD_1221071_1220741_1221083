{
 "cells": [
  {
   "cell_type": "markdown",
   "id": "999834b9",
   "metadata": {},
   "source": [
    "# Código Python - Trabalho 2"
   ]
  },
  {
   "cell_type": "markdown",
   "id": "5a28f5d6",
   "metadata": {},
   "source": [
    "## *Imports* estáticos"
   ]
  },
  {
   "cell_type": "code",
   "execution_count": null,
   "id": "67b478f8",
   "metadata": {},
   "outputs": [],
   "source": [
    "import pandas as pd\n",
    "import numpy as np\n",
    "import matplotlib.pyplot as plt\n",
    "import seaborn as sns\n",
    "from sklearn.pipeline import make_pipeline\n",
    "from sklearn.model_selection import KFold, cross_val_score, train_test_split\n",
    "from sklearn.preprocessing import StandardScaler\n",
    "from sklearn.linear_model import LinearRegression\n",
    "from sklearn import tree\n",
    "from sklearn.tree import DecisionTreeRegressor\n",
    "from sklearn.svm import SVR\n",
    "from sklearn.neural_network import MLPRegressor\n",
    "from sklearn.neighbors import KNeighborsRegressor\n",
    "from sklearn.metrics import mean_squared_error, mean_absolute_error, mean_absolute_percentage_error, r2_score\n",
    "from sklearn.preprocessing import MinMaxScaler"
   ]
  },
  {
   "cell_type": "markdown",
   "id": "47563a4b",
   "metadata": {},
   "source": [
    "## Declaração de variáveis repeditas"
   ]
  },
  {
   "cell_type": "code",
   "execution_count": null,
   "id": "9181267b",
   "metadata": {},
   "outputs": [],
   "source": [
    "random_state = 42\n",
    "alpha = 0.05\n",
    "test_size = 0.3"
   ]
  },
  {
   "cell_type": "markdown",
   "id": "77d67af6",
   "metadata": {},
   "source": [
    "## 4.1  Análise Exploratória de Dados\n",
    "### 4.1.1   Leitura do ficheiro"
   ]
  },
  {
   "cell_type": "code",
   "execution_count": null,
   "id": "a0582cf8",
   "metadata": {},
   "outputs": [],
   "source": [
    "dados = pd.read_csv('dados/AIRPOL_data.csv', delimiter=\";\", header=0, decimal=',')\n",
    "dados = dados.drop(columns=['Unnamed: 8', 'Unnamed: 9', 'Unnamed: 10', 'Unnamed: 11', 'Unnamed: 12', 'Unnamed: 13', 'Unnamed: 14', 'Unnamed: 15']).rename(columns={\"Value\":\"Premature_Deaths\",\"Outcome\":\"Disease\"})\n",
    "#dados = dados[dados.Country != 'All Countries']\n",
    "#dados.sort_values(by=['Value'])"
   ]
  },
  {
   "cell_type": "markdown",
   "id": "ae0455c2",
   "metadata": {},
   "source": [
    "#### Sumário dos dados"
   ]
  },
  {
   "cell_type": "code",
   "execution_count": null,
   "id": "ddec79dc",
   "metadata": {},
   "outputs": [],
   "source": [
    "print(dados.info())"
   ]
  },
  {
   "cell_type": "markdown",
   "id": "b41d14f0",
   "metadata": {},
   "source": [
    "### 4.1.2   Exploração com gráficos"
   ]
  },
  {
   "cell_type": "code",
   "execution_count": null,
   "id": "d42fdd46",
   "metadata": {},
   "outputs": [],
   "source": [
    "dados.describe()"
   ]
  },
  {
   "cell_type": "code",
   "execution_count": null,
   "id": "038c4f60",
   "metadata": {},
   "outputs": [],
   "source": [
    "features = list(dados.columns[0:8])\n",
    "print(features)"
   ]
  },
  {
   "cell_type": "code",
   "execution_count": null,
   "id": "ba9bbc36",
   "metadata": {},
   "outputs": [],
   "source": [
    "numericFeatures = features[4:]\n",
    "numericFeatures"
   ]
  },
  {
   "cell_type": "markdown",
   "id": "ec22e223",
   "metadata": {},
   "source": [
    "#### Análise Univariável"
   ]
  },
  {
   "cell_type": "code",
   "execution_count": null,
   "id": "a44ee23d",
   "metadata": {},
   "outputs": [],
   "source": [
    "# Aplicar log1p (log(1 + x)) para reduzir o impacto de valores extremos\n",
    "dados_log = dados[numericFeatures].apply(lambda x: np.log1p(x))\n",
    "\n",
    "# Aplicar MinMaxScaler\n",
    "scaler = MinMaxScaler()\n",
    "dados_scaled = pd.DataFrame(scaler.fit_transform(dados_log), columns=numericFeatures)\n",
    "\n",
    "num_features = len(numericFeatures)\n",
    "fig, axes = plt.subplots(nrows=num_features, ncols=2, figsize=(12, 3 + num_features))\n",
    "fig.suptitle(\"Histogramas e Diagramas de caixa para as colunas normalizadas\", fontsize=16)\n",
    "\n",
    "for i, column in enumerate(numericFeatures):\n",
    "\n",
    "    sns.histplot(dados_scaled[column], ax=axes[i, 0], kde=True, bins=50)\n",
    "    axes[i, 0].set_title(f\"Histograma de {column}\")\n",
    "    axes[i, 0].set_xlabel(column)\n",
    "    axes[i, 0].set_ylabel(\"Frequência\")\n",
    "    axes[i, 0].tick_params(axis='x', labelrotation=45)\n",
    "    axes[i, 0].xaxis.set_major_locator(plt.MaxNLocator(10))\n",
    "\n",
    "    sns.boxplot(y=dados_scaled[column], ax=axes[i, 1])\n",
    "    axes[i, 1].set_title(f\"Diagrama de caixa de {column}\")\n",
    "    axes[i, 1].set_xlabel(column)\n",
    "    axes[i, 1].set_ylabel(\"\")\n",
    "    axes[i, 1].tick_params(axis='y', labelsize=5)\n",
    "    axes[i, 1].yaxis.set_major_locator(plt.MaxNLocator(10))\n",
    "\n",
    "plt.tight_layout(rect=(0, 0, 1, 0.96))\n",
    "plt.show()"
   ]
  },
  {
   "cell_type": "markdown",
   "id": "1f78dc87",
   "metadata": {},
   "source": [
    "#### Análise Bivariável"
   ]
  },
  {
   "cell_type": "code",
   "execution_count": null,
   "id": "73a96803",
   "metadata": {},
   "outputs": [],
   "source": [
    "goalAttrib = 'Premature_Deaths'\n",
    "\n",
    "plt.figure(figsize=(15,15))\n",
    "numericFeaturesWOValue = [f for f in numericFeatures if f != goalAttrib]\n",
    "for i, feature in enumerate(numericFeaturesWOValue):\n",
    "    rows = (len(numericFeaturesWOValue) + 1) # Adjust rows to handle odd number of features\n",
    "    plt.subplot(rows,2,i+1)\n",
    "    sns.scatterplot(x=dados_log[feature], y=dados_log[goalAttrib], alpha=0.6)\n",
    "    plt.title(\"Gráfico de dispersão de \" + feature + \" vs \" + goalAttrib)\n",
    "    plt.xlabel(feature)\n",
    "    plt.ylabel(goalAttrib)\n",
    "    plt.grid()\n",
    "plt.tight_layout()"
   ]
  },
  {
   "cell_type": "markdown",
   "id": "c6eed16f",
   "metadata": {},
   "source": [
    "### 4.1.3. Pré-processamento dos dados"
   ]
  },
  {
   "cell_type": "code",
   "execution_count": null,
   "id": "8dddfa54",
   "metadata": {},
   "outputs": [],
   "source": [
    "# Remover outliers\n",
    "print(f\"Número de linhas antes da remoção de outliers: {len(dados)}\")\n",
    "\n",
    "for col in numericFeatures:\n",
    "    Q1 = dados[col].quantile(0.25)\n",
    "    Q3 = dados[col].quantile(0.75)\n",
    "    IQR = Q3 - Q1\n",
    "    filtro = (dados[col] >= (Q1 - 1.5 * IQR)) & (dados[col] <= (Q3 + 1.5 * IQR))\n",
    "    dados = dados[filtro]\n",
    "\n",
    "print(f\"Número de linhas após remoção de outliers: {len(dados)}\")"
   ]
  },
  {
   "cell_type": "markdown",
   "id": "095b8771",
   "metadata": {},
   "source": [
    "### 4.1.4. Agrupamento dos dados em zonas"
   ]
  },
  {
   "cell_type": "code",
   "execution_count": null,
   "id": "541f16e2",
   "metadata": {},
   "outputs": [],
   "source": [
    "westEuDados = dados[dados['Country'].isin(['Austria', 'Belgium', 'France', 'Germany', 'Netherlands', 'Switzerland'])]\n",
    "eastEuDados = dados[dados['Country'].isin(['Poland', 'Czechia', 'Hungary'])]\n",
    "soutEuDados = dados[dados['Country'].isin(['Greece', 'Spain', 'Italy', 'Portugal'])]\n",
    "nortEuDados = dados[dados['Country'].isin(['Sweden', 'Denmark', 'Northern Europe', 'Finland'])]"
   ]
  },
  {
   "cell_type": "markdown",
   "id": "0de36fe9",
   "metadata": {},
   "source": [
    "### 4.2.1 Criar um diagrama de correlação entre a variável Premature_Deaths e os restantes atributos e interprete"
   ]
  },
  {
   "cell_type": "markdown",
   "id": "210ff2b5",
   "metadata": {},
   "source": [
    "# Filtração dos dados por dados de sul da Europa."
   ]
  },
  {
   "cell_type": "code",
   "execution_count": null,
   "id": "d614338b",
   "metadata": {},
   "outputs": [],
   "source": [
    "\n",
    "\n",
    "soutEuDados = dados[dados['Country'].isin(['Greece', 'Spain', 'Italy', 'Portugal'])]\n",
    "soutEuDadosNumericos = soutEuDados.select_dtypes(include=[np.number])\n"
   ]
  },
  {
   "cell_type": "markdown",
   "id": "275080ff",
   "metadata": {},
   "source": [
    "# Escolha de Representação de Correlação dos Dados: Heatmap a representar a matriz de confusão"
   ]
  },
  {
   "cell_type": "code",
   "execution_count": null,
   "id": "642ef331",
   "metadata": {},
   "outputs": [],
   "source": [
    "corr = soutEuDadosNumericos.corr()\n",
    "plt.figure(figsize=(10, 8))\n",
    "sns.heatmap(corr, annot=True, fmt=\".2f\", cmap='coolwarm', square=True, cbar_kws={\"shrink\": .8})\n",
    "plt.title('Correlação entre variáveis numéricas')\n",
    "plt.tight_layout()\n",
    "plt.show()"
   ]
  },
  {
   "cell_type": "markdown",
   "id": "411d5956",
   "metadata": {},
   "source": [
    "## Pequena Interpretação dos Dados\n",
    "\n",
    "- As variáveis **Affected_Population** e **Populated_Area[km2]** apresentam uma correlação **moderadamente positiva** com o número de mortes prematuras (`Value`), com os seguintes coeficientes de correlação: **r₁ = 0.56** e **r₂ = 0.53**.\n",
    "\n",
    "- Desta forma, podemos concluir que a maior parte das mortes foi causada por doenças que afetam populações em **áreas mais populosas e com maior densidade populacional**.\n",
    "\n",
    "- Adicionalmente, verificamos que a variável **Air_Pollution_Average[ug/m3]** apresenta uma correlação praticamente nula com o número de mortes (**r = -0.014951**), o que indica que **a média da poluição atmosférica não tem influência significativa sobre a variável `Value`** neste conjunto de dados.\n"
   ]
  },
  {
   "cell_type": "markdown",
   "id": "c97f183e",
   "metadata": {},
   "source": [
    "### 4.2.2 - Com o método k-fold cross validation obter um modelo de regressão linear simples para a variável Premature_Deaths usando a variável Affected_Population dos países do Southern Europe"
   ]
  },
  {
   "cell_type": "code",
   "execution_count": null,
   "id": "9017c0d2",
   "metadata": {},
   "outputs": [],
   "source": [
    "goalAttr = soutEuDados.columns[7]\n",
    "feature = soutEuDados.columns[4]\n",
    "\n",
    "print(f\"Goal attribute: {goalAttr}\")\n",
    "print(f\"Feature: {feature}\")"
   ]
  },
  {
   "cell_type": "markdown",
   "id": "f741c746",
   "metadata": {},
   "source": [
    "#### Divisão dos dados (Holdout: 70% Train / 30% Test)"
   ]
  },
  {
   "cell_type": "code",
   "execution_count": null,
   "id": "45915498",
   "metadata": {},
   "outputs": [],
   "source": [
    "from sklearn.model_selection import train_test_split\n",
    "\n",
    "y = soutEuDados[goalAttr]\n",
    "X = soutEuDados[[feature]]\n",
    "\n",
    "X_train, X_test, y_train, y_test = train_test_split(X, y, test_size=test_size, random_state=random_state)\n",
    "\n",
    "print('Train set size: ' + str(X_train.shape) + \"x_test_size\" + str(X_test.shape))\n",
    "print('Test set size: ' + str(y_train.shape) + \"y_test_size\" + str(y_test.shape))"
   ]
  },
  {
   "cell_type": "markdown",
   "id": "7167ef97",
   "metadata": {},
   "source": [
    "### Modelo de Regressão Linear Simples"
   ]
  },
  {
   "cell_type": "code",
   "execution_count": null,
   "id": "a9b89cc6",
   "metadata": {},
   "outputs": [],
   "source": [
    "from sklearn.linear_model import LinearRegression\n",
    "\n",
    "lr = LinearRegression()\n",
    "\n",
    "lr.fit(X_train, y_train)\n",
    "\n",
    "print(f\"Função linear média: {goalAttr} = {np.round(lr.coef_, 8)} * {feature} + {np.round(lr.intercept_, 3)}\")"
   ]
  },
  {
   "cell_type": "markdown",
   "id": "fb1e05de",
   "metadata": {},
   "source": [
    "#### Visualização da reta e da dispersão de dados de teste"
   ]
  },
  {
   "cell_type": "code",
   "execution_count": null,
   "id": "29d5bed5",
   "metadata": {},
   "outputs": [],
   "source": [
    "y_pred_test = lr.predict(X_test)\n",
    "\n",
    "plt.figure(figsize=(8, 6))\n",
    "plt.scatter(X_test, y_test, color='blue', label='Dados de Teste')\n",
    "plt.plot(X_test, y_pred_test, color='red', linewidth=2, label='Reta de Regressão')\n",
    "plt.xlabel('Affected_Population')\n",
    "plt.ylabel('Premature_Deaths')\n",
    "plt.title('Regressão Linear Simples')\n",
    "plt.legend()\n",
    "plt.grid(True)\n",
    "plt.tight_layout()\n",
    "plt.show()"
   ]
  },
  {
   "cell_type": "markdown",
   "id": "b89166a3",
   "metadata": {},
   "source": [
    "O gráfico apresentado mostra a relação entre a variável \"Affected_Population\" (população afetada) e \"Premature_Deaths\" (mortes prematuras) para os países do Sul da Europa, juntamente com a reta de regressão linear ajustada ao conjunto de teste.\n",
    "\n",
    "Podemos observar que existe uma tendência positiva: à medida que a população afetada aumenta, o número de mortes prematuras também tende a aumentar. A reta de regressão representa a melhor aproximação linear dessa relação, de acordo com o modelo treinado.\n",
    "\n",
    "No entanto, nota-se alguma dispersão dos pontos em torno da reta, indicando que outros fatores além da população afetada podem influenciar o número de mortes prematuras. Ainda assim, a reta ajustada sugere que a variável \"Affected_Population\" é um preditor relevante para \"Premature_Deaths\" neste contexto. \n",
    "\n",
    "A análise quantitativa dos erros (MAE e RMSE) nas próximas células ajudará a avaliar a precisão do modelo."
   ]
  },
  {
   "cell_type": "markdown",
   "id": "18bb0b87",
   "metadata": {},
   "source": [
    "#### Calcular o MAE e o RMSE com o K-Fold Cross Validation"
   ]
  },
  {
   "cell_type": "code",
   "execution_count": null,
   "id": "0f044352",
   "metadata": {},
   "outputs": [],
   "source": [
    "from sklearn.model_selection import cross_val_score, KFold\n",
    "\n",
    "K = 10  # Número de folds\n",
    "kFolds = KFold(n_splits=K, shuffle=True, random_state=42)\n",
    "\n",
    "# MAE\n",
    "mae_scores = cross_val_score(lr, X_train, y_train, cv=kFolds, scoring='neg_mean_absolute_error')\n",
    "mae_mean = -np.mean(mae_scores)\n",
    "mae_std = np.std(mae_scores)\n",
    "\n",
    "# RMSE\n",
    "mse_scores = cross_val_score(lr, X_train, y_train, cv=kFolds, scoring='neg_mean_squared_error')\n",
    "rmse_scores = (-mse_scores) ** 0.5\n",
    "rmse_mean = np.mean(rmse_scores)\n",
    "rmse_std = np.std(rmse_scores)\n",
    "\n",
    "print(f\"MAE: {np.round(mae_mean, 3)} ± {np.round(mae_std, 3)}\")\n",
    "print(f\"RMSE: {np.round(rmse_mean, 3)} ± {np.round(rmse_std, 3)}\")"
   ]
  },
  {
   "cell_type": "markdown",
   "id": "07f346e7",
   "metadata": {},
   "source": [
    "Os valores de MAE e RMSE apresentados indicam o desempenho do modelo de regressão linear simples ao prever \"Premature_Deaths\" com base em \"Affected_Population\" para os países do Sul da Europa. Se ambos os valores forem baixos e próximos entre si, isso sugere que o modelo apresenta boa precisão e que os erros de previsão não são significativamente influenciados por grandes outliers. Por outro lado, se o RMSE for consideravelmente maior que o MAE, isso indica que existem alguns pontos com erros elevados, o que pode ser resultado de dispersão ou outliers nos dados. De modo geral, quanto menores forem esses valores, melhor será o ajuste do modelo aos dados observados, reforçando a relação linear identificada no gráfico.\n"
   ]
  },
  {
   "cell_type": "markdown",
   "id": "eb6e71a1",
   "metadata": {},
   "source": [
    "### 4.2.3 K-Fold cross validation\n",
    "#### Otimização dos parâmetros da Árvore de regressão e visualização"
   ]
  },
  {
   "cell_type": "code",
   "execution_count": null,
   "id": "e3f9bc56",
   "metadata": {},
   "outputs": [],
   "source": [
    "goalAttrib = 'Premature_Deaths'\n",
    "features = list(dados.columns[0:8])\n",
    "numericFeatures = features[4:]\n",
    "scaler = StandardScaler()\n",
    "\n",
    "X = soutEuDados[numericFeatures].drop(columns=[goalAttrib])\n",
    "y = soutEuDados[goalAttrib]\n",
    "\n",
    "X_train, X_test, y_train, y_test = train_test_split(X,y,test_size=test_size,random_state=random_state)\n",
    "\n",
    "print(\"Stratified division of goal attribute:\")\n",
    "print(y_train.value_counts(normalize=True).mul(100).round(1).astype(str)+'%')\n",
    "print(y_test.value_counts(normalize=True).mul(100).round(1).astype(str)+'%')\n",
    "\n",
    "scaler = StandardScaler()\n",
    "X_train_scaled = scaler.fit_transform(X_train)\n",
    "X_test_scaled = scaler.transform(X_test)"
   ]
  },
  {
   "cell_type": "code",
   "execution_count": null,
   "id": "b1146e92",
   "metadata": {},
   "outputs": [],
   "source": [
    "results = []\n",
    "for max_depth in range(2, 11):\n",
    "    for min_samples_split in [2, 5, 10]:\n",
    "        for min_samples_leaf in [1, 2, 4]:\n",
    "            dt = DecisionTreeRegressor(\n",
    "                max_depth=max_depth,\n",
    "                min_samples_split=min_samples_split,\n",
    "                min_samples_leaf=min_samples_leaf,\n",
    "                random_state=random_state\n",
    "            )\n",
    "            dt.fit(X_train, y_train)\n",
    "            y_pred = dt.predict(X_test)\n",
    "\n",
    "            result = {\n",
    "                'max_depth': max_depth,\n",
    "                'min_samples_split': min_samples_split,\n",
    "                'min_samples_leaf': min_samples_leaf,\n",
    "                'mse': mean_squared_error(y_test, y_pred),\n",
    "                'r2': r2_score(y_test, y_pred)\n",
    "            }\n",
    "            results.append(result)\n",
    "\n",
    "resdf = pd.DataFrame(results)\n",
    "resdf = resdf.sort_values(by='r2', ascending=False)\n",
    "resdf"
   ]
  },
  {
   "cell_type": "code",
   "execution_count": null,
   "id": "de421ba8",
   "metadata": {},
   "outputs": [],
   "source": [
    "best_tree = DecisionTreeRegressor(\n",
    "    max_depth=9,\n",
    "    min_samples_split=5,\n",
    "    min_samples_leaf=1,\n",
    "    random_state=random_state\n",
    ")\n",
    "best_tree.fit(X_train, y_train)\n",
    "\n",
    "plt.figure(figsize=(20, 10))\n",
    "tree.plot_tree(\n",
    "    best_tree,\n",
    "    filled=True,\n",
    "    feature_names=X_train.columns,\n",
    "    rounded=True,\n",
    "    fontsize=9\n",
    ")\n",
    "plt.title(\"Árvore de Decisão Otimizada\")\n",
    "plt.show()"
   ]
  },
  {
   "cell_type": "markdown",
   "id": "506887d5",
   "metadata": {},
   "source": [
    "#### Otimização do kernel SVM"
   ]
  },
  {
   "cell_type": "code",
   "execution_count": null,
   "id": "1b61df11",
   "metadata": {},
   "outputs": [],
   "source": [
    "kernels = ['linear', 'rbf', 'poly']\n",
    "results = []\n",
    "\n",
    "for kernel in kernels:\n",
    "    # initialize and train SVM\n",
    "    svm_model = SVR(kernel=kernel)\n",
    "    rmse_scores = cross_val_score(svm_model, X_train, y_train, scoring='neg_mean_squared_error', cv=20)\n",
    "    # store results\n",
    "    results.append({\n",
    "        \"model\": kernel,\n",
    "        \"rmse\": np.mean(rmse_scores),\n",
    "        \"std\": np.std(rmse_scores)\n",
    "    })\n",
    "\n",
    "resdf = pd.DataFrame(results)\n",
    "resdf = resdf.sort_values(by='rmse', ascending=True)\n",
    "resdf"
   ]
  },
  {
   "cell_type": "markdown",
   "id": "923dbdd3",
   "metadata": {},
   "source": [
    "Com isto, vemos que o melhor kernel é o \"rbf\"\n",
    "#### Otimização da configuração da rede neuronal"
   ]
  },
  {
   "cell_type": "code",
   "execution_count": null,
   "id": "cc58b000",
   "metadata": {},
   "outputs": [],
   "source": [
    "def regressmodelevaluation(name_model, y_test, y_pred):\n",
    "    mae = round(mean_absolute_error(y_test, y_pred), 3)\n",
    "    mse = round(mean_squared_error(y_test, y_pred), 3)\n",
    "    rmse = round(np.sqrt(mse), 3)\n",
    "    r2 = round(r2_score(y_test, y_pred), 3)\n",
    "    mape = round(mean_absolute_percentage_error(y_test, y_pred), 3)\n",
    "    return pd.Series({'Model': name_model, 'mae': mae, 'mse': mse, 'rmse': rmse, 'r2': r2, 'mape': mape})"
   ]
  },
  {
   "cell_type": "code",
   "execution_count": null,
   "id": "f1fbd045",
   "metadata": {},
   "outputs": [],
   "source": [
    "results = []\n",
    "ncols = X_train.shape[1]\n",
    "\n",
    "for solv in ['lbfgs', 'sgd', 'adam']:\n",
    "    for nodes in range(2,ncols):\n",
    "        mlp = MLPRegressor(hidden_layer_sizes=nodes,\n",
    "                           activation='tanh',\n",
    "                           solver=solv,\n",
    "                           max_iter=1000,\n",
    "                           learning_rate='adaptive',\n",
    "                           early_stopping=True,\n",
    "                           random_state=random_state)\n",
    "        mlp.fit(X_train, y_train)\n",
    "\n",
    "        y_pred = mlp.predict(X_test)\n",
    "        result = regressmodelevaluation(f'{solv} {nodes}', y_test, y_pred)\n",
    "        results.append(result)\n",
    "    \n",
    "resdf = pd.DataFrame(results)\n",
    "resdf"
   ]
  },
  {
   "cell_type": "code",
   "execution_count": null,
   "id": "99344b2e",
   "metadata": {},
   "outputs": [],
   "source": [
    "results = []\n",
    "for solv in ['lbfgs', 'sgd', 'adam']:\n",
    "    for nodes1 in range(2,6):\n",
    "        for nodes2 in range(3,7):\n",
    "            mlp = MLPRegressor(hidden_layer_sizes=(nodes1, nodes2),\n",
    "                        activation='tanh',\n",
    "                        solver=solv,\n",
    "                        max_iter=1000,\n",
    "                        learning_rate='adaptive',\n",
    "                        early_stopping=True,\n",
    "                        random_state=random_state)\n",
    "            mlp.fit(X_train, y_train)\n",
    "\n",
    "            y_pred = mlp.predict(X_test)\n",
    "            result = regressmodelevaluation(f'{solv} {nodes1} {nodes2}', y_test, y_pred)\n",
    "            results.append(result)\n",
    "    \n",
    "resdf = pd.DataFrame(results)\n",
    "resdf.sort_values(by='r2', ascending=False)"
   ]
  },
  {
   "cell_type": "markdown",
   "id": "e32c24ec",
   "metadata": {},
   "source": [
    "Com isto, vemos que o melhor modelo é o lbfgs 4 5\n",
    "#### k-fold cross validation"
   ]
  },
  {
   "cell_type": "code",
   "execution_count": null,
   "id": "3edda3ed",
   "metadata": {},
   "outputs": [],
   "source": [
    "kfold = KFold(n_splits=5, shuffle=True, random_state=random_state)\n",
    "\n",
    "models = []\n",
    "models.append(('rgr', LinearRegression()))\n",
    "models.append(('dtr', DecisionTreeRegressor(\n",
    "        max_depth=9,\n",
    "        min_samples_split=5,\n",
    "        min_samples_leaf=1,\n",
    "        random_state=random_state\n",
    "    )))\n",
    "models.append(('net', MLPRegressor(hidden_layer_sizes=(4, 5),\n",
    "                        activation='tanh',\n",
    "                        solver='lbfgs',\n",
    "                        max_iter=1000,\n",
    "                        learning_rate='adaptive',\n",
    "                        early_stopping=True,\n",
    "                        random_state=random_state)))\n",
    "models.append(('svm', make_pipeline(StandardScaler(),SVR(kernel='rbf'))))\n",
    "\n",
    "lstresults = []\n",
    "\n",
    "for name, model in models:\n",
    "    # RMSE\n",
    "    mse_scores = cross_val_score(model, X_train, y_train, cv=kfold, scoring='neg_mean_squared_error')\n",
    "    rmse_scores = (-mse_scores) ** 0.5\n",
    "\n",
    "    # MAE\n",
    "    mae_scores = cross_val_score(model, X_train, y_train, cv=kfold, scoring='neg_mean_absolute_error')\n",
    "    mae_scores = -mae_scores\n",
    "\n",
    "    # R2\n",
    "    r2_scores = cross_val_score(model, X_train, y_train, cv=kfold, scoring='r2')\n",
    "\n",
    "    lstresults.append(pd.Series({\n",
    "        'model': name,\n",
    "        'mean_RMSE': round(np.mean(rmse_scores), 3),\n",
    "        'std_RMSE': round(np.std(rmse_scores), 3),\n",
    "        'mean_MAE': round(np.mean(mae_scores), 3),\n",
    "        'std_MAE': round(np.std(mae_scores), 3),\n",
    "        'mean_R2': round(np.mean(r2_scores), 3),\n",
    "        'std_R2': round(np.std(r2_scores), 3)\n",
    "    }))\n",
    "    print(f\"Model {name} done\")\n",
    "\n",
    "resdf = pd.DataFrame(lstresults)\n",
    "resdf.sort_values(by='mean_R2', ascending=False)"
   ]
  },
  {
   "cell_type": "markdown",
   "id": "45e7a024",
   "metadata": {},
   "source": [
    "### 4.2.4 Comparar os resultados obtidos pelos modelos referidos, usando o erro médio absoluto (MAE) e a raiz quadrada do erro médio (RMSE).\n",
    "\n",
    "Analisando o erro médio absoluto (MAE) dos modelos avaliados na tabela acima, observa-se que a SVM (375.694) apresenta o menor valor médio, seguida pela árvore de regressão (dtr, 400.754), regressão linear (rgr, 418.009) e, por fim, a rede neural (net, 594.638).\n",
    "\n",
    "Quanto à raiz quadrada do erro médio (RMSE), a árvore de regressão (dtr, 1755.514) apresenta o menor valor, seguida pela regressão linear (rgr, 1768.854), SVM (2068.130) e rede neural (net, 2070.886).\n"
   ]
  },
  {
   "cell_type": "markdown",
   "id": "51ad7da7",
   "metadata": {},
   "source": [
    "### 4.2.5 Justificar se os resultados obtidos para os dois melhores modelos são estatisticamente significativos, e indicar o(s) modelo(s) com melhor desempenho\n",
    "\n",
    "Os dois melhores modelos são o da regressão linear múltipla e o da árvore de regressão"
   ]
  },
  {
   "cell_type": "code",
   "execution_count": null,
   "id": "c1a207d0",
   "metadata": {},
   "outputs": [],
   "source": [
    "kfold = KFold(n_splits=5, shuffle=True, random_state=random_state)\n",
    "\n",
    "models = []\n",
    "models.append(('rgr', LinearRegression()))\n",
    "models.append(('dtr', DecisionTreeRegressor(\n",
    "        max_depth=9,\n",
    "        min_samples_split=5,\n",
    "        min_samples_leaf=1,\n",
    "        random_state=random_state\n",
    "    )))\n",
    "\n",
    "lstresults = []\n",
    "rgr_results_rmse = []\n",
    "dtr_results_rmse = []\n",
    "\n",
    "for name, model in models:\n",
    "    # RMSE\n",
    "    mse_scores = cross_val_score(model, X_train, y_train, cv=kfold, scoring='neg_mean_squared_error')\n",
    "    rmse_scores = (-mse_scores) ** 0.5\n",
    "\n",
    "    # MAE\n",
    "    mae_scores = cross_val_score(model, X_train, y_train, cv=kfold, scoring='neg_mean_absolute_error')\n",
    "    mae_scores = -mae_scores\n",
    "\n",
    "    if name == 'rgr':\n",
    "        rgr_results_rmse = rmse_scores\n",
    "        rgr_results_mae = mae_scores\n",
    "    else:\n",
    "        dtr_results_rmse = rmse_scores\n",
    "        dtr_results_mae = mae_scores"
   ]
  },
  {
   "cell_type": "code",
   "execution_count": null,
   "id": "f333e58b",
   "metadata": {},
   "outputs": [],
   "source": [
    "from scipy.stats import shapiro, ttest_ind, mannwhitneyu\n",
    "\n",
    "t_stat_mae_rgr, p_value_mae_rgr = shapiro(rgr_results_mae)\n",
    "t_stat_mae_dtr, p_value_mae_dtr = shapiro(dtr_results_mae)\n",
    "print(f\"Shapiro-Wilk MAE RGR: p-value={p_value_mae_rgr}\")\n",
    "print(f\"Shapiro-Wilk MAE DTR: p-value={p_value_mae_dtr}\")\n",
    "\n",
    "if p_value_mae_rgr > alpha and p_value_mae_dtr > alpha:\n",
    "    print(\"MAE de RGR e DTR seguem distribuição normal.\")\n",
    "    t_stat, p_val_t = ttest_ind(rgr_results_mae, dtr_results_mae, equal_var=False)\n",
    "    print(f\"Teste t de Student (MAE): p-value={p_val_t}\")\n",
    "    if p_val_t < alpha:\n",
    "        print(\"MAE de RGR e DTR são significativamente diferentes.\")\n",
    "    else:\n",
    "        print(\"MAE de RGR e DTR não são significativamente diferentes.\")\n",
    "else:\n",
    "    print(\"MAE de RGR e DTR não seguem distribuição normal.\")\n",
    "    u_stat, p_val_u = mannwhitneyu(rgr_results_mae, dtr_results_mae)\n",
    "    print(f\"Teste U de Mann-Whitney (MAE): p-value={p_val_u}\")\n",
    "    if p_val_u < alpha:\n",
    "        print(\"MAE de RGR e DTR são significativamente diferentes.\")\n",
    "    else:\n",
    "        print(\"MAE de RGR e DTR não são significativamente diferentes.\")\n",
    "\n",
    "print(\"\\n---\\n\")\n",
    "\n",
    "t_stat_rmse_rgr, p_value_rmse_rgr = shapiro(rgr_results_rmse)\n",
    "t_stat_rmse_dtr, p_value_rmse_dtr = shapiro(dtr_results_rmse)\n",
    "print(f\"Shapiro-Wilk RMSE RGR: p-value={p_value_rmse_rgr}\")\n",
    "print(f\"Shapiro-Wilk RMSE DTR: p-value={p_value_rmse_dtr}\")\n",
    "\n",
    "if p_value_rmse_rgr > alpha and p_value_rmse_dtr > alpha:\n",
    "    print(\"RMSE de RGR e DTR seguem distribuição normal.\")\n",
    "    t_stat, p_val_t = ttest_ind(rgr_results_rmse, dtr_results_rmse, equal_var=False)\n",
    "    print(f\"Teste t de Student (RMSE): p-value={p_val_t}\")\n",
    "    if p_val_t < alpha:\n",
    "        print(\"RMSE de RGR e DTR são significativamente diferentes.\")\n",
    "    else:\n",
    "        print(\"RMSE de RGR e DTR não são significativamente diferentes.\")\n",
    "else:\n",
    "    print(\"RMSE de RGR e DTR não seguem distribuição normal.\")\n",
    "    u_stat, p_val_u = mannwhitneyu(rgr_results_rmse, dtr_results_rmse)\n",
    "    print(f\"Teste U de Mann-Whitney (RMSE): p-value={p_val_u}\")\n",
    "    if p_val_u < alpha:\n",
    "        print(\"RMSE de RGR e DTR são significativamente diferentes.\")\n",
    "    else:\n",
    "        print(\"RMSE de RGR e DTR não são significativamente diferentes.\")"
   ]
  },
  {
   "cell_type": "markdown",
   "id": "260107d6",
   "metadata": {},
   "source": [
    "Nos dois modelos e com os valores, não apresentam-se diferenças significativas. Então os melhores modelos são o da árvore de regressão e o da regressão linear múltipla."
   ]
  },
  {
   "cell_type": "markdown",
   "id": "ef2c8177",
   "metadata": {},
   "source": [
    "### 4.3.1 Novo atributo \"RespDisease\""
   ]
  },
  {
   "cell_type": "code",
   "execution_count": null,
   "id": "da2dbf24",
   "metadata": {},
   "outputs": [],
   "source": [
    "dados4regioes = pd.concat([westEuDados, eastEuDados, soutEuDados, nortEuDados], ignore_index=False)\n",
    "dados4regioes"
   ]
  },
  {
   "cell_type": "markdown",
   "id": "c477260d",
   "metadata": {},
   "source": [
    "Este código foi inspirado por esta [thread](https://stackoverflow.com/questions/67420811/a-new-column-in-pandas-which-value-depends-on-other-columns) no stack**overflow**"
   ]
  },
  {
   "cell_type": "code",
   "execution_count": null,
   "id": "14e7c796",
   "metadata": {},
   "outputs": [],
   "source": [
    "goalAttrib = 'RespDisease'\n",
    "\n",
    "def calc_resp_disease(row):\n",
    "    respDiseases = ['Asthma', 'Chronic obstructive pulmonary disease']\n",
    "    if row['Disease'] in respDiseases:\n",
    "        return 1\n",
    "    else:\n",
    "        return 0\n",
    "\n",
    "dados4regioes[goalAttrib] = dados4regioes.apply(calc_resp_disease, axis=1)\n",
    "\n",
    "dados4regioes"
   ]
  },
  {
   "cell_type": "markdown",
   "id": "630dde36",
   "metadata": {},
   "source": [
    "### 4.3.2 K-Fold cross validation"
   ]
  },
  {
   "cell_type": "markdown",
   "id": "a3319de9",
   "metadata": {},
   "source": [
    "#### Preparação dos valores"
   ]
  },
  {
   "cell_type": "code",
   "execution_count": null,
   "id": "53bd3518",
   "metadata": {},
   "outputs": [],
   "source": [
    "features = list(dados4regioes.columns[0:9])\n",
    "numericFeatures = features[4:]\n",
    "print(numericFeatures)\n",
    "\n",
    "X = dados4regioes[numericFeatures].drop(columns=[goalAttrib])\n",
    "y = dados4regioes[goalAttrib]\n",
    "\n",
    "X_train, X_test, y_train, y_test = train_test_split(X,y,test_size=test_size,random_state=random_state)\n",
    "\n",
    "print(\"Stratified division of goal attribute:\")\n",
    "print(y_train.value_counts(normalize=True).mul(100).round(1).astype(str)+'%')\n",
    "print(y_test.value_counts(normalize=True).mul(100).round(1).astype(str)+'%')\n",
    "\n",
    "scaler = StandardScaler()\n",
    "X_train_scaled = scaler.fit_transform(X_train)\n",
    "X_test_scaled = scaler.transform(X_test)"
   ]
  },
  {
   "cell_type": "markdown",
   "id": "eb6e71a1",
   "metadata": {},
   "source": [
    "#### Otimização dos parâmetros da Árvore de regressão"
   ]
  },
  {
   "cell_type": "code",
   "execution_count": null,
   "id": "cad20f18",
   "metadata": {},
   "outputs": [],
   "source": [
    "results = []\n",
    "for max_depth in range(2, 11):\n",
    "    for min_samples_split in [2, 5, 10]:\n",
    "        for min_samples_leaf in [1, 2, 4]:\n",
    "            dt = DecisionTreeRegressor(\n",
    "                max_depth=max_depth,\n",
    "                min_samples_split=min_samples_split,\n",
    "                min_samples_leaf=min_samples_leaf,\n",
    "                random_state=random_state\n",
    "            )\n",
    "            dt.fit(X_train_scaled, y_train)\n",
    "            y_pred = dt.predict(X_test_scaled)\n",
    "\n",
    "            result = {\n",
    "                'max_depth': max_depth,\n",
    "                'min_samples_split': min_samples_split,\n",
    "                'min_samples_leaf': min_samples_leaf,\n",
    "                'mse': mean_squared_error(y_test, y_pred),\n",
    "                'r2': r2_score(y_test, y_pred)\n",
    "            }\n",
    "            results.append(result)\n",
    "\n",
    "resdf = pd.DataFrame(results)\n",
    "resdf = resdf.sort_values(by='r2', ascending=False)\n",
    "resdf"
   ]
  },
  {
   "cell_type": "markdown",
   "id": "506887d5",
   "metadata": {},
   "source": [
    "Assim, vemos que a melhor árvore tem os seguintes parâmetros:\n",
    "* max_depth = 10\n",
    "* min_samples_split = 2\n",
    "* min_samples_leaf = 2\n",
    "#### Otimização do kernel SVM"
   ]
  },
  {
   "cell_type": "code",
   "execution_count": null,
   "id": "76b2e2b0",
   "metadata": {},
   "outputs": [],
   "source": [
    "kernels = ['linear', 'rbf', #'poly'\n",
    "           ]\n",
    "results = []\n",
    "\n",
    "for kernel in kernels:\n",
    "    # initialize and train SVM\n",
    "    svm_model = SVR(kernel=kernel)\n",
    "    rmse_scores = cross_val_score(svm_model, X_train_scaled, y_train, scoring='neg_mean_squared_error', cv=10)\n",
    "    # store results\n",
    "    results.append({\n",
    "        \"model\": kernel,\n",
    "        \"rmse\": np.mean(rmse_scores),\n",
    "        \"std\": np.std(rmse_scores)\n",
    "    })\n",
    "    print(f\"{kernel} done\")\n",
    "\n",
    "resdf = pd.DataFrame(results)\n",
    "resdf = resdf.sort_values(by='rmse', ascending=True)\n",
    "resdf"
   ]
  },
  {
   "cell_type": "markdown",
   "id": "a6d2813b",
   "metadata": {},
   "source": [
    "Comparando os valores, chegamos à conclusão que o melhor kernel é o \"linear\".\n",
    "(O \"poly\" não foi mostrado visto que demora demasiado (mais de meia hora com cv=2))"
   ]
  },
  {
   "cell_type": "markdown",
   "id": "923dbdd3",
   "metadata": {},
   "source": [
    "#### Otimização da configuração da rede neuronal"
   ]
  },
  {
   "cell_type": "code",
   "execution_count": null,
   "id": "411a9b09",
   "metadata": {},
   "outputs": [],
   "source": [
    "def regressmodelevaluation(name_model, y_test, y_pred):\n",
    "    mae = round(mean_absolute_error(y_test, y_pred), 3)\n",
    "    mse = round(mean_squared_error(y_test, y_pred), 3)\n",
    "    rmse = round(np.sqrt(mse), 3)\n",
    "    r2 = round(r2_score(y_test, y_pred), 3)\n",
    "    mape = round(mean_absolute_percentage_error(y_test, y_pred), 3)\n",
    "    return pd.Series({'Model': name_model, 'mae': mae, 'mse': mse, 'rmse': rmse, 'r2': r2, 'mape': mape})"
   ]
  },
  {
   "cell_type": "code",
   "execution_count": null,
   "id": "0b528949",
   "metadata": {},
   "outputs": [],
   "source": [
    "results = []\n",
    "for solv in ['lbfgs', 'sgd', 'adam']:\n",
    "    for nodes1 in range(2,6):\n",
    "        for nodes2 in range(3,7):\n",
    "            mlp = MLPRegressor(hidden_layer_sizes=(nodes1, nodes2),\n",
    "                        activation='tanh',\n",
    "                        solver=solv,\n",
    "                        max_iter=1000,\n",
    "                        learning_rate='adaptive',\n",
    "                        early_stopping=True,\n",
    "                        random_state=random_state)\n",
    "            mlp.fit(X_train_scaled, y_train)\n",
    "\n",
    "            y_pred = mlp.predict(X_test_scaled)\n",
    "            result = regressmodelevaluation(f'{solv} {nodes1} {nodes2}', y_test, y_pred)\n",
    "            results.append(result)\n",
    "    \n",
    "resdf = pd.DataFrame(results)\n",
    "resdf.sort_values(by='r2', ascending=False)"
   ]
  },
  {
   "cell_type": "markdown",
   "id": "8a67c5d4",
   "metadata": {},
   "source": [
    "Com isto, vemos que o melhor modelo é o lbfgs 5 6\n",
    "#### Otimização da configuração dos K-vizinhos mais próximos"
   ]
  },
  {
   "cell_type": "code",
   "execution_count": null,
   "id": "f047a7b9",
   "metadata": {},
   "outputs": [],
   "source": [
    "num_holdouts = 20\n",
    "\n",
    "results = []\n",
    "\n",
    "for k in range(1, 51, 2):\n",
    "    rmse_scores = []\n",
    "    for _ in range(num_holdouts):\n",
    "        Xhd_train, Xhd_test, yhd_train, yhd_test = train_test_split(X_train_scaled, y_train, test_size=test_size)\n",
    "\n",
    "        knn_model = KNeighborsRegressor(n_neighbors=k)\n",
    "        knn_model.fit(Xhd_train, yhd_train)\n",
    "\n",
    "        y_pred = knn_model.predict(Xhd_test)\n",
    "\n",
    "        mse = mean_squared_error(yhd_test, y_pred)\n",
    "        rmse_scores.append(np.sqrt(mse))\n",
    "\n",
    "    results.append({\n",
    "        \"k\": k,\n",
    "        \"rmse_mean\": np.mean(rmse_scores),\n",
    "        \"rmse_std\": np.std(rmse_scores)\n",
    "    })\n",
    "\n",
    "resdf = pd.DataFrame(results)\n",
    "resdf = resdf.sort_values(by='rmse_mean', ascending=True)\n",
    "resdf"
   ]
  },
  {
   "cell_type": "markdown",
   "id": "ef6e2185",
   "metadata": {},
   "source": [
    "k = 15 é o ideal aqui (?)"
   ]
  },
  {
   "cell_type": "markdown",
   "id": "e32c24ec",
   "metadata": {},
   "source": [
    "#### k-fold cross validation"
   ]
  },
  {
   "cell_type": "code",
   "execution_count": null,
   "id": "3edda3ed",
   "metadata": {},
   "outputs": [],
   "source": [
    "kfold = KFold(n_splits=5, shuffle=True, random_state=random_state)\n",
    "\n",
    "models = []\n",
    "#models.append(('rgr', LinearRegression()))\n",
    "models.append(('dtr', DecisionTreeRegressor(\n",
    "        max_depth=10,\n",
    "        min_samples_split=2,\n",
    "        min_samples_leaf=2,\n",
    "        random_state=random_state\n",
    "    )))\n",
    "models.append(('net', MLPRegressor(hidden_layer_sizes=(5, 6),\n",
    "                        activation='tanh',\n",
    "                        solver='lbfgs',\n",
    "                        max_iter=1000,\n",
    "                        learning_rate='adaptive',\n",
    "                        early_stopping=True,\n",
    "                        random_state=random_state)))\n",
    "models.append(('knn', KNeighborsRegressor(n_neighbors=21)))\n",
    "models.append(('svm', make_pipeline(StandardScaler(),SVR(kernel='linear'))))\n",
    "\n",
    "lstresults = []\n",
    "\n",
    "for name, model in models:\n",
    "    # RMSE\n",
    "    mse_scores = cross_val_score(model, X, y, cv=kfold, scoring='neg_mean_squared_error')\n",
    "    rmse_scores = (-mse_scores) ** 0.5\n",
    "\n",
    "    # MAE\n",
    "    mae_scores = cross_val_score(model, X, y, cv=kfold, scoring='neg_mean_absolute_error')\n",
    "    mae_scores = -mae_scores\n",
    "\n",
    "    # R2\n",
    "    r2_scores = cross_val_score(model, X, y, cv=kfold, scoring='r2')\n",
    "\n",
    "    lstresults.append(pd.Series({\n",
    "        'model': name,\n",
    "        'mean_RMSE': round(np.mean(rmse_scores), 3),\n",
    "        'std_RMSE': round(np.std(rmse_scores), 3),\n",
    "        'mean_MAE': round(np.mean(mae_scores), 3),\n",
    "        'std_MAE': round(np.std(mae_scores), 3),\n",
    "        'mean_R2': round(np.mean(r2_scores), 3),\n",
    "        'std_R2': round(np.std(r2_scores), 3)\n",
    "    }))\n",
    "    print(f\"Model {name} done\")\n",
    "\n",
    "resdf = pd.DataFrame(lstresults)\n",
    "resdf.sort_values(by='mean_R2', ascending=False)"
   ]
  },
  {
   "cell_type": "markdown",
   "id": "1633117e",
   "metadata": {},
   "source": []
  }
 ],
 "metadata": {
  "kernelspec": {
   "display_name": "base",
   "language": "python",
   "name": "python3"
  },
  "language_info": {
   "codemirror_mode": {
    "name": "ipython",
    "version": 3
   },
   "file_extension": ".py",
   "mimetype": "text/x-python",
   "name": "python",
   "nbconvert_exporter": "python",
   "pygments_lexer": "ipython3",
   "version": "3.12.7"
  }
 },
 "nbformat": 4,
 "nbformat_minor": 5
}
