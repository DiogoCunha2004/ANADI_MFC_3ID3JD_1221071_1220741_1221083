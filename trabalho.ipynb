{
 "cells": [
  {
   "cell_type": "markdown",
   "id": "999834b9",
   "metadata": {},
   "source": [
    "# Código Python - Trabalho 2"
   ]
  },
  {
   "cell_type": "markdown",
   "id": "5a28f5d6",
   "metadata": {},
   "source": [
    "## *Imports* estáticos"
   ]
  },
  {
   "cell_type": "code",
   "execution_count": null,
   "id": "67b478f8",
   "metadata": {},
   "outputs": [],
   "source": [
    "import pandas as pd"
   ]
  }
 ],
 "metadata": {
  "kernelspec": {
   "display_name": "base",
   "language": "python",
   "name": "python3"
  },
  "language_info": {
   "codemirror_mode": {
    "name": "ipython",
    "version": 3
   },
   "file_extension": ".py",
   "mimetype": "text/x-python",
   "name": "python",
   "nbconvert_exporter": "python",
   "pygments_lexer": "ipython3",
   "version": "3.12.7"
  }
 },
 "nbformat": 4,
 "nbformat_minor": 5
}
